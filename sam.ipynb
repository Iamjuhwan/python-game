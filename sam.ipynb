{
 "cells": [
  {
   "cell_type": "code",
   "execution_count": 2,
   "id": "a3761d8b-749b-4ef3-b41a-4532f200f5d6",
   "metadata": {},
   "outputs": [
    {
     "name": "stdout",
     "output_type": "stream",
     "text": [
      "hello world\n"
     ]
    }
   ],
   "source": [
    "print(\"hello world\")"
   ]
  },
  {
   "cell_type": "code",
   "execution_count": 4,
   "id": "bb462146-6cb2-412d-8df5-0f69da956320",
   "metadata": {},
   "outputs": [
    {
     "name": "stdout",
     "output_type": "stream",
     "text": [
      "['Jesujuwon', 24, True]\n",
      "Jesujuwon\n"
     ]
    }
   ],
   "source": [
    "profile = [\"Jesujuwon\", 24, True]\n",
    "print(profile)\n",
    "print(profile[0])\n"
   ]
  },
  {
   "cell_type": "code",
   "execution_count": 20,
   "id": "e06e96e8-b367-4bb7-80fc-26a4fca9c3e6",
   "metadata": {},
   "outputs": [
    {
     "ename": "IndentationError",
     "evalue": "expected an indented block (915576645.py, line 5)",
     "output_type": "error",
     "traceback": [
      "\u001b[1;36m  File \u001b[1;32m\"C:\\Users\\Windowonamerica\\AppData\\Local\\Temp\\ipykernel_10504\\915576645.py\"\u001b[1;36m, line \u001b[1;32m5\u001b[0m\n\u001b[1;33m    player_input = input('Enter r, p, s for Rock, Paper, Scissors: ')\u001b[0m\n\u001b[1;37m    ^\u001b[0m\n\u001b[1;31mIndentationError\u001b[0m\u001b[1;31m:\u001b[0m expected an indented block\n"
     ]
    }
   ],
   "source": [
    "#my first python game!\n",
    "import random\n",
    "def rps():\n",
    "    keep_playing = True\n",
    "    while keep_playing is True:\n",
    "    player_input = input('Enter r, p, s for Rock, Paper, Scissors: ')\n",
    "    possible_actions = ['r', 'p', 's']\n",
    "    computer_input = random.choice(possible_actions)\n",
    "    \n",
    "    print(f'You chose{player_input} and the computer chose{computer_input}')\n",
    "    \n",
    "    \n",
    "    if player_input == computer_input\n",
    "        print(f\"Both players chose{player_input}, it is a tie\")\n",
    "    elif player_input == \"r\":\n",
    "        if computer_input == \"s\"\n",
    "            print (\"Rock smaches Scissors, You win!\")\n",
    "        else:\n",
    "            print(\"Paper smaches Rock, Computer win!\")\n",
    "    elif player_input ==\"p\"\n",
    "        if computer_input ==\"r\"\n",
    "            print(\"Paper covers rock, You win!\")\n",
    "        else:\n",
    "            print(\"Scissors cut paper, Computer wins!\")\n",
    "    elif player_input ==\"s\"\n",
    "        if computer_input == \"p\"\n",
    "            print(\"Scissors cuts paper, You win!\")\n",
    "        else:\n",
    "            print(\"Rock destroys scissors, Computer wins!\")\n",
    "        choice= input(\"would you like to contine?:[Yes/No] \")\n",
    "        if choice == 'Yes':\n",
    "            keep_playing = True\n",
    "        elif choice =='No':\n",
    "            keep_playing = False\n",
    "    rps()\n",
    "    \n",
    "    \n",
    "    "
   ]
  },
  {
   "cell_type": "code",
   "execution_count": null,
   "id": "f0b7294b-34c1-4cb7-ad98-670072631bb8",
   "metadata": {},
   "outputs": [],
   "source": []
  }
 ],
 "metadata": {
  "kernelspec": {
   "display_name": "Python 3 (ipykernel)",
   "language": "python",
   "name": "python3"
  },
  "language_info": {
   "codemirror_mode": {
    "name": "ipython",
    "version": 3
   },
   "file_extension": ".py",
   "mimetype": "text/x-python",
   "name": "python",
   "nbconvert_exporter": "python",
   "pygments_lexer": "ipython3",
   "version": "3.9.13"
  }
 },
 "nbformat": 4,
 "nbformat_minor": 5
}
